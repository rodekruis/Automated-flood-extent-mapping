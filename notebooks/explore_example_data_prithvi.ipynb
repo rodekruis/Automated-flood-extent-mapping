{
 "cells": [
  {
   "cell_type": "markdown",
   "metadata": {},
   "source": [
    "### This is what Silvia and Simon tried in order to read the data provided as example on the Prithvi HuggingFace demo and to get some Sentinel data and make it look the same.\n",
    "\n",
    "### The main takeaway is that the data should be Sentinel-2 **L1C** data. Which can be downloaded completely with all the expected layers from Copernicus using the sentinelhub package.\n"
   ]
  },
  {
   "cell_type": "code",
   "execution_count": null,
   "metadata": {},
   "outputs": [],
   "source": [
    "import rasterio\n",
    "import numpy as np\n",
    "import matplotlib.pyplot as plt\n",
    "from rasterio.plot import show\n",
    "from rasterio.plot import show_hist\n",
    "from rasterio.mask import mask\n",
    "from IPython.core.interactiveshell import InteractiveShell\n",
    "\n",
    "InteractiveShell.ast_node_interactivity = \"all\"\n",
    "\n",
    "%load_ext autoreload\n",
    "%autoreload 2\n",
    "\n",
    "# read data\n",
    "spain = rasterio.open('data/Spain_7370579_S2Hand.tif')\n",
    "show(spain)\n"
   ]
  },
  {
   "cell_type": "code",
   "execution_count": null,
   "metadata": {},
   "outputs": [],
   "source": [
    "spain = rasterio.open('data/Spain_7370579_LabelHand.tif')\n",
    "show(spain)\n"
   ]
  },
  {
   "cell_type": "code",
   "execution_count": null,
   "metadata": {},
   "outputs": [],
   "source": []
  },
  {
   "cell_type": "code",
   "execution_count": null,
   "metadata": {},
   "outputs": [],
   "source": [
    "# Open the image file\n",
    "\n",
    "    # Read the image bands\n",
    "bands = spain.read()\n",
    "\n",
    "# Display each band\n",
    "for band_index in range(spain.count):\n",
    "    band = bands[band_index]\n",
    "    band.shape\n",
    "    plt.imshow(bands[band_index])  # You can specify other colormaps as needed\n",
    "    plt.title(f\"Band {band_index + 1}\")\n",
    "    plt.show()\n"
   ]
  },
  {
   "cell_type": "code",
   "execution_count": null,
   "metadata": {},
   "outputs": [],
   "source": [
    "# Combine the bands from data/B*.tif into a single image\n",
    "target_bands = [\n",
    "    \"B02\",\n",
    "    \"B03\",\n",
    "    \"B04\",\n",
    "    \"B8A\",\n",
    "    \"B11\",\n",
    "    \"B12\",\n",
    "]\n",
    "\n",
    "datasets = []\n",
    "\n",
    "for target_band in target_bands:\n",
    "    dataset = rasterio.open(f\"data/{target_band}.tif\")\n",
    "    band = dataset.read(1)\n",
    "    band.shape\n",
    "    datasets.append(dataset)\n",
    "    # plt.imshow(band, cmap='gray')\n",
    "    # plt.title(target_band)\n",
    "    # plt.show()\n",
    "\n",
    "# new_dataset = rasterio.open(\n",
    "#     'data/new.tif',\n",
    "#     'w',\n",
    "#     driver='GTiff',\n",
    "#     height=Z.shape[0],\n",
    "#     width=Z.shape[1],\n",
    "#     count=1,\n",
    "#     dtype=Z.dtype,\n",
    "#     crs='+proj=latlong',\n",
    "#     transform=transform,\n",
    "# )\n"
   ]
  },
  {
   "cell_type": "code",
   "execution_count": null,
   "metadata": {},
   "outputs": [],
   "source": [
    "from rasterio.merge import merge\n",
    "\n",
    "mosaic, output = merge(datasets)\n"
   ]
  },
  {
   "cell_type": "code",
   "execution_count": null,
   "metadata": {},
   "outputs": [],
   "source": [
    "output_meta = dataset.meta.copy()\n",
    "output_meta.update(\n",
    "   {\"driver\": \"GTiff\",\n",
    "       \"height\": mosaic.shape[1],\n",
    "       \"width\": mosaic.shape[2],\n",
    "       \"transform\": output,\n",
    "   })\n"
   ]
  },
  {
   "cell_type": "code",
   "execution_count": null,
   "metadata": {},
   "outputs": [],
   "source": [
    "show(mosaic)\n"
   ]
  },
  {
   "cell_type": "code",
   "execution_count": null,
   "metadata": {},
   "outputs": [],
   "source": [
    "response = rasterio.open(\"data/6010d416b76925d6ff045c57962858c8/response.tiff\")\n",
    "response.meta\n"
   ]
  },
  {
   "cell_type": "code",
   "execution_count": null,
   "metadata": {},
   "outputs": [],
   "source": [
    "with rasterio.open(\"data/new.tif\", \"w\", **output_meta) as m:\n",
    "   m.write(mosaic)\n"
   ]
  }
 ],
 "metadata": {
  "kernelspec": {
   "display_name": "automated-flood-extent-mapping-oQljyOK2-py3.10",
   "language": "python",
   "name": "python3"
  },
  "language_info": {
   "codemirror_mode": {
    "name": "ipython",
    "version": 3
   },
   "file_extension": ".py",
   "mimetype": "text/x-python",
   "name": "python",
   "nbconvert_exporter": "python",
   "pygments_lexer": "ipython3",
   "version": "3.10.10"
  }
 },
 "nbformat": 4,
 "nbformat_minor": 2
}
