{
 "cells": [
  {
   "cell_type": "code",
   "execution_count": null,
   "metadata": {},
   "outputs": [],
   "source": [
    "from pathlib import Path\n",
    "from flood_mapping.nvidia_inference import predict_floods\n",
    "from flood_mapping.utils import create_path_df\n",
    "import matplotlib.pyplot as plt\n",
    "import cv2\n",
    "\n",
    "data_folder = Path(\"data/inference_sample\")"
   ]
  },
  {
   "cell_type": "markdown",
   "metadata": {},
   "source": [
    "In case you did not run the inference on your data folder yet use the cell below (can take a long time for large datasets)"
   ]
  },
  {
   "cell_type": "code",
   "execution_count": null,
   "metadata": {},
   "outputs": [],
   "source": [
    "batch_size = 1\n",
    "num_workers = 0\n",
    "preds = predict_floods(data_folder=data_folder, num_workers=num_workers, batch_size=batch_size)"
   ]
  },
  {
   "cell_type": "markdown",
   "metadata": {},
   "source": [
    "To visualise the output use the cells below. If there are labels available set flood_labels_available to True and set which number you want to visualise."
   ]
  },
  {
   "cell_type": "code",
   "execution_count": null,
   "metadata": {},
   "outputs": [],
   "source": [
    "# Preparation steps that only need to be executed once\n",
    "flood_labels_available = True\n",
    "\n",
    "path_df = create_path_df(data_folder, flood_labels_available)\n",
    "n_subplots = 4 if flood_labels_available else 3"
   ]
  },
  {
   "cell_type": "code",
   "execution_count": null,
   "metadata": {},
   "outputs": [],
   "source": [
    "# Run for the image you are interested in\n",
    "image_num = 1\n",
    "\n",
    "fig, subplots = plt.subplots(1,n_subplots, figsize=(15, 15))\n",
    "\n",
    "subplots[0].set_title('vh')\n",
    "subplots[0].imshow(cv2.imread(str(path_df['vh_image_path'][image_num]), 0) / 255.0)\n",
    "\n",
    "subplots[1].set_title('vv')\n",
    "subplots[1].imshow(cv2.imread(str(path_df['vv_image_path'][image_num]), 0) / 255.0)\n",
    "\n",
    "subplots[2].set_title('pred')\n",
    "subplots[2].imshow(cv2.imread(str(path_df['pred_path'][image_num]), 0) / 255.0)\n",
    "\n",
    "if flood_labels_available:\n",
    "    flood_labels = cv2.imread(str(path_df['flood_label_path'][image_num]), 0) / 255\n",
    "    subplots[3].set_title('label')\n",
    "    subplots[3].imshow(flood_labels)"
   ]
  }
 ],
 "metadata": {
  "kernelspec": {
   "display_name": "automated-flood-extent-mapping-iiypELG_-py3.10",
   "language": "python",
   "name": "python3"
  },
  "language_info": {
   "codemirror_mode": {
    "name": "ipython",
    "version": 3
   },
   "file_extension": ".py",
   "mimetype": "text/x-python",
   "name": "python",
   "nbconvert_exporter": "python",
   "pygments_lexer": "ipython3",
   "version": "3.10.11"
  }
 },
 "nbformat": 4,
 "nbformat_minor": 2
}
